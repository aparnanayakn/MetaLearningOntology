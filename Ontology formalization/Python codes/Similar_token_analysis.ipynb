{
  "nbformat": 4,
  "nbformat_minor": 0,
  "metadata": {
    "colab": {
      "provenance": []
    },
    "kernelspec": {
      "name": "python3",
      "display_name": "Python 3"
    },
    "language_info": {
      "name": "python"
    }
  },
  "cells": [
    {
      "cell_type": "code",
      "execution_count": null,
      "metadata": {
        "id": "-Kg8_3sC6JAY"
      },
      "outputs": [],
      "source": [
        "import pandas as pd\n",
        "import glob"
      ]
    },
    {
      "cell_type": "code",
      "source": [
        "#CSV ; creating a single list of scopus tokens to drop duplicates.\n",
        "path = \".\"\n",
        "files = glob.glob(path + \"/*.csv\")\n",
        "\n",
        "required_words_list = []\n",
        "\n",
        "for file in files:\n",
        "  df = pd.read_csv(file)\n",
        "  column_data = df.iloc[:, 0].tolist()\n",
        "  required_words_list.extend(column_data)\n",
        "\n",
        "required_words_list1= list(dict.fromkeys(required_words_list) )\n",
        "required_words_list1.to_csv(\"scopus_tokens.csv\",index=False)"
      ],
      "metadata": {
        "id": "6to5LFVmnC1e"
      },
      "execution_count": null,
      "outputs": []
    },
    {
      "cell_type": "code",
      "source": [
        "#creating a single list of PDFs tokens\n",
        "path = \".\"\n",
        "files = glob.glob(path + \"/*.csv\")\n",
        "\n",
        "required_words_list = []\n",
        "count = 0\n",
        "for file in files:\n",
        "    count+=1\n",
        "    df = pd.read_csv(file)\n",
        "    temp_list = df['Word'].tolist()\n",
        "    temp_df = pd.DataFrame({'Filename': [file] * len(temp_list), 'Word': temp_list})\n",
        "    required_words_list.append(temp_df)\n",
        "\n",
        "required_words = pd.concat(required_words_list, ignore_index=True)\n",
        "required_words_unique = required_words.drop_duplicates(subset='Word', keep='first')\n",
        "\n",
        "print(required_words_unique)"
      ],
      "metadata": {
        "colab": {
          "base_uri": "https://localhost:8080/"
        },
        "id": "j2nruE5v6kAu",
        "outputId": "2b00ba74-75f5-4faf-e2e4-e87bb3288f53"
      },
      "execution_count": null,
      "outputs": [
        {
          "output_type": "stream",
          "name": "stdout",
          "text": [
            "                                   Filename                           Word\n",
            "0     ./hattie1996effects_similar_words.csv                 knowledge task\n",
            "1     ./hattie1996effects_similar_words.csv           programs aiming near\n",
            "2     ./hattie1996effects_similar_words.csv                         habits\n",
            "3     ./hattie1996effects_similar_words.csv            wisdom intervention\n",
            "4     ./hattie1996effects_similar_words.csv                  task expected\n",
            "...                                     ...                            ...\n",
            "5154    ./langdon2022meta_similar_words.csv            basis fast learning\n",
            "5157    ./langdon2022meta_similar_words.csv        distinction model model\n",
            "5161    ./langdon2022meta_similar_words.csv                      net model\n",
            "5165    ./langdon2022meta_similar_words.csv        combined based learning\n",
            "5172    ./langdon2022meta_similar_words.csv  structure investigation model\n",
            "\n",
            "[3110 rows x 2 columns]\n"
          ]
        }
      ]
    },
    {
      "cell_type": "code",
      "source": [
        "required_words_unique.to_csv(\"allpdf_tokens.csv\",index=False)"
      ],
      "metadata": {
        "id": "OP1gqQgx6wN5"
      },
      "execution_count": null,
      "outputs": []
    }
  ]
}